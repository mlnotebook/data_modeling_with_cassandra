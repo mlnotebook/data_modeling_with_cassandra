{
 "cells": [
  {
   "cell_type": "markdown",
   "metadata": {
    "editable": true
   },
   "source": [
    "# Part I. ETL Pipeline for Pre-Processing the Files"
   ]
  },
  {
   "cell_type": "markdown",
   "metadata": {
    "editable": true
   },
   "source": [
    "## PLEASE RUN THE FOLLOWING CODE FOR PRE-PROCESSING THE FILES"
   ]
  },
  {
   "cell_type": "markdown",
   "metadata": {
    "editable": true
   },
   "source": [
    "#### Import Python packages "
   ]
  },
  {
   "cell_type": "code",
   "execution_count": 1,
   "metadata": {
    "editable": true
   },
   "outputs": [],
   "source": [
    "# Import Python packages \n",
    "import pandas as pd\n",
    "import cassandra\n",
    "import re\n",
    "import os\n",
    "import glob\n",
    "import numpy as np\n",
    "import json\n",
    "import csv"
   ]
  },
  {
   "cell_type": "markdown",
   "metadata": {
    "editable": true
   },
   "source": [
    "#### Creating list of filepaths to process original event csv data files"
   ]
  },
  {
   "cell_type": "code",
   "execution_count": 2,
   "metadata": {
    "editable": true
   },
   "outputs": [
    {
     "name": "stdout",
     "output_type": "stream",
     "text": [
      "/home/workspace\n"
     ]
    }
   ],
   "source": [
    "print(os.getcwd())\n",
    "filepath = os.getcwd() + '/event_data'\n",
    "for root, dirs, files in os.walk(filepath):\n",
    "    file_path_list = glob.glob(os.path.join(root,'*'))"
   ]
  },
  {
   "cell_type": "markdown",
   "metadata": {
    "editable": true
   },
   "source": [
    "#### Processing the files to create the data file csv that will be used for Apache Casssandra tables"
   ]
  },
  {
   "cell_type": "code",
   "execution_count": 3,
   "metadata": {
    "editable": true
   },
   "outputs": [],
   "source": [
    "full_data_rows_list = [] \n",
    "for f in file_path_list:\n",
    "    with open(f, 'r', encoding = 'utf8', newline='') as csvfile: \n",
    "        # creating a csv reader object \n",
    "        csvreader = csv.reader(csvfile) \n",
    "        next(csvreader)\n",
    "\n",
    "        for line in csvreader:\n",
    "            #print(line)\n",
    "            full_data_rows_list.append(line) \n",
    "            \n",
    "print('Total Rows: ', len(full_data_rows_list))\n",
    "# print(full_data_rows_list)\n",
    "\n",
    "# creating a smaller event data csv file called event_datafile_full csv that will be used to insert data into the \\\n",
    "# Apache Cassandra tables\n",
    "csv.register_dialect('myDialect', quoting=csv.QUOTE_ALL, skipinitialspace=True)\n",
    "\n",
    "with open('event_datafile_new.csv', 'w', encoding = 'utf8', newline='') as f:\n",
    "    writer = csv.writer(f, dialect='myDialect')\n",
    "    writer.writerow(['artist','firstName','gender','itemInSession','lastName','length',\\\n",
    "                'level','location','sessionId','song','userId'])\n",
    "    for row in full_data_rows_list:\n",
    "        if (row[0] == ''):\n",
    "            continue\n",
    "        writer.writerow((row[0], row[2], row[3], row[4], row[5], row[6], row[7], row[8], row[12], row[13], row[16]))"
   ]
  },
  {
   "cell_type": "code",
   "execution_count": 4,
   "metadata": {
    "editable": true
   },
   "outputs": [
    {
     "name": "stdout",
     "output_type": "stream",
     "text": [
      "Rows in file:  6821\n"
     ]
    }
   ],
   "source": [
    "# check the number of rows in your csv file\n",
    "with open('event_datafile_new.csv', 'r', encoding = 'utf8') as f:\n",
    "    print('Rows in file: ', sum(1 for line in f))"
   ]
  },
  {
   "cell_type": "markdown",
   "metadata": {
    "editable": true
   },
   "source": [
    "# Part II. Complete the Apache Cassandra coding portion of your project. \n",
    "\n",
    "## Now you are ready to work with the CSV file titled <font color=red>event_datafile_new.csv</font>, located within the Workspace directory.  The event_datafile_new.csv contains the following columns: \n",
    "- artist \n",
    "- firstName of user\n",
    "- gender of user\n",
    "- item number in session\n",
    "- last name of user\n",
    "- length of the song\n",
    "- level (paid or free song)\n",
    "- location of the user\n",
    "- sessionId\n",
    "- song title\n",
    "- userId\n",
    "\n",
    "The image below is a screenshot of what the denormalized data should appear like in the <font color=red>**event_datafile_new.csv**</font> after the code above is run:<br>\n",
    "\n",
    "<img src=\"images/image_event_datafile_new.jpg\">"
   ]
  },
  {
   "cell_type": "markdown",
   "metadata": {
    "editable": true
   },
   "source": [
    "## Begin writing your Apache Cassandra code in the cells below"
   ]
  },
  {
   "cell_type": "markdown",
   "metadata": {
    "editable": true
   },
   "source": [
    "#### Creating a Cluster and Keyspace - with exception handling!"
   ]
  },
  {
   "cell_type": "code",
   "execution_count": 5,
   "metadata": {
    "editable": true
   },
   "outputs": [],
   "source": [
    "from cassandra.cluster import Cluster\n",
    "try:\n",
    "    cluster = Cluster(['127.0.0.1'])\n",
    "    session = cluster.connect()\n",
    "except Exception as e:\n",
    "    print('Error connecting to cluster')\n",
    "    print(e)\n",
    "\n",
    "try:\n",
    "    session.execute(\"\"\"\n",
    "    CREATE KEYSPACE IF NOT EXISTS sparkify\n",
    "    WITH REPLICATION = {'class' : 'SimpleStrategy', 'replication_factor' : 1}\n",
    "    \"\"\")\n",
    "except Exception as e:\n",
    "    print('Error creating KEYSPACE')\n",
    "    print(e)\n",
    "\n",
    "## Set the Keyspace\n",
    "try:\n",
    "    session.set_keyspace('sparkify')\n",
    "except Exception as e:\n",
    "    print('Error setting KEYSPACE')"
   ]
  },
  {
   "cell_type": "markdown",
   "metadata": {
    "editable": true
   },
   "source": [
    "### Now we need to create tables to run the following queries. Remember, with Apache Cassandra you model the database tables on the queries you want to run."
   ]
  },
  {
   "cell_type": "markdown",
   "metadata": {
    "editable": true
   },
   "source": [
    "## Create queries to ask the following three questions of the data\n",
    "\n",
    "1. Give me the *artist*, *song title* and *song's length* in the music app history that was heard during  *sessionId = 338*, and *itemInSession  = 4*\n",
    "2. Give me only the following: name of *artist*, *song (sorted by itemInSession)* and *user (first and last name)* for *userid = 10*, *sessionid = 182*\n",
    "3. Give me every *user name (first and last)* in my music app history who listened to the *song 'All Hands Against His Own'*"
   ]
  },
  {
   "cell_type": "markdown",
   "metadata": {
    "editable": true
   },
   "source": [
    "---"
   ]
  },
  {
   "cell_type": "markdown",
   "metadata": {
    "editable": true
   },
   "source": [
    "## Query 1 Notes\n",
    "\n",
    "* <mark>**Query**: Give me the _artist_, _song title_ and _song's length_ in the music app history that was heard during `session_id` = 338, and `item_in_session` = 4</mark>\n",
    "* To get a unique `PRIMARY KEY` it is necessary to combine the `session_id` with `item_in_session`. The `session_id` alone may have multiple entries if more than one song was played in the session.\n",
    "* The `session_id` can be used as the `PARTITION KEY` while `item_in_session` can be set as a `CLUSTERING` column.\n",
    "* The query requires a `WHERE` on `item_in_session`."
   ]
  },
  {
   "cell_type": "code",
   "execution_count": 8,
   "metadata": {
    "editable": true
   },
   "outputs": [],
   "source": [
    "## CREATE TABLE\n",
    "query = \"CREATE TABLE IF NOT EXISTS songs_by_session \"\n",
    "query += \"\"\"(artist text,\n",
    "            item_in_session int,\n",
    "            song_length float,\n",
    "            session_id int,\n",
    "            song_title text,\n",
    "            PRIMARY KEY (session_id, item_in_session));\"\"\"\n",
    "try:\n",
    "    session.execute(query)\n",
    "except Exception as e:\n",
    "    print('Error creating TABLE')\n",
    "    print(e)\n",
    "\n",
    "## INSERT ROWS\n",
    "file = 'event_datafile_new.csv'\n",
    "with open(file, encoding = 'utf8') as f:\n",
    "    csvreader = csv.reader(f)\n",
    "    next(csvreader) # skip header\n",
    "    for line in csvreader:\n",
    "        query = \"INSERT INTO songs_by_session (artist, item_in_session, song_length, session_id, song_title) \"\n",
    "        query += \"VALUES (%s, %s, %s, %s, %s)\"\n",
    "        session.execute(query, (line[0], int(line[3]), float(line[5]), int(line[8]), line[9]))"
   ]
  },
  {
   "cell_type": "code",
   "execution_count": 9,
   "metadata": {
    "editable": true
   },
   "outputs": [
    {
     "name": "stdout",
     "output_type": "stream",
     "text": [
      "Artist                Item      Length   Session   SongTitle           \n",
      "------------------------------------------------------------\n",
      "Regina Spektor        0         191.085  23        The Calculation (Album Version)\n",
      "Octopus Project       1         250.958  23        All Of The Champs That Ever Lived\n",
      "Tegan And Sara        2         180.062  23        So Jealous          \n",
      "Dragonette            3         153.391  23        Okay Dolores        \n",
      "Lil Wayne / Eminem    4         229.590  23        Drop The World      \n"
     ]
    }
   ],
   "source": [
    "## VERIFY DATA\n",
    "query = \"SELECT * FROM songs_by_session LIMIT 5;\"\n",
    "try:\n",
    "    rows = session.execute(query)\n",
    "except Exception as e:\n",
    "    print('Error reading from table')\n",
    "    print(e)\n",
    "\n",
    "print('{:<20}  {:<8}  {:<7}  {:<8}  {:<20}'.format('Artist', 'Item', 'Length', 'Session', 'SongTitle'))\n",
    "print('-'*60)\n",
    "for row in rows:\n",
    "    print('{:<20}  {:<8}  {:3.3f}  {:<8}  {:<20}'.format(row.artist, row.item_in_session, row.song_length, row.session_id, row.song_title))"
   ]
  },
  {
   "cell_type": "code",
   "execution_count": 10,
   "metadata": {
    "editable": true
   },
   "outputs": [
    {
     "name": "stdout",
     "output_type": "stream",
     "text": [
      "Artist     SongTitle                           SongLength\n",
      "------------------------------------------------------\n",
      "Faithless  Music Matters (Mark Knight Dub)     495.307\n"
     ]
    }
   ],
   "source": [
    "## RUN QUERY\n",
    "query = \"\"\"SELECT artist, song_title, song_length\n",
    "        FROM songs_by_session WHERE session_id=%s\n",
    "        AND item_in_session=%s;\"\"\"\n",
    "try:\n",
    "    rows = session.execute(query, (338, 4))\n",
    "except Exception as e:\n",
    "    print('Error running query')\n",
    "    print(e)\n",
    "\n",
    "print('{:<10} {:<35} {:<7}'.format('Artist', 'SongTitle', 'SongLength'))\n",
    "print('-'*54)\n",
    "for row in rows:\n",
    "    print('{:<10} {:<35} {:3.3f}'.format(row.artist, row.song_title, row.song_length))"
   ]
  },
  {
   "cell_type": "markdown",
   "metadata": {
    "editable": true
   },
   "source": [
    "---\n",
    "\n",
    "## Query 2 Notes\n",
    "\n",
    "* <mark>**Query**: Give me only the following: name of *artist*, *song (sorted by itemInSession)* and *user (first and last name)* for `userid` = 10, `sessionid = 182`</mark>\n",
    "* To get a unique `PRIMARY KEY` for each `item_in_session`, the `user_id`,`session_id` and `item_in_session` keys are combined.\n",
    "* The `user_id` and `session_id` can be combined as the `PARTITION KEY` - this gives more partitions than using only `user_id`.\n",
    "* The query requires a `WHERE` on `user_id` and `session_id` and a `SORT` on `item_in_session`."
   ]
  },
  {
   "cell_type": "code",
   "execution_count": 11,
   "metadata": {
    "editable": true
   },
   "outputs": [],
   "source": [
    "## CREATE TABLE\n",
    "query = \"CREATE TABLE IF NOT EXISTS songs_by_user_session \"\n",
    "query += \"\"\"(artist text,\n",
    "            user_first text,\n",
    "            item_in_session int,\n",
    "            user_last text,\n",
    "            session_id int,\n",
    "            song_title text,\n",
    "            user_id int,\n",
    "            PRIMARY KEY ((user_id, session_id), item_in_session)) \"\"\"\n",
    "query += \"WITH CLUSTERING ORDER BY (item_in_session ASC);\"\n",
    "try:\n",
    "    session.execute(query)\n",
    "except Exception as e:\n",
    "    print('Error creating TABLE')\n",
    "    print(e)\n",
    "\n",
    "## INSERT ROWS\n",
    "file = 'event_datafile_new.csv'\n",
    "with open(file, encoding = 'utf8') as f:\n",
    "    csvreader = csv.reader(f)\n",
    "    next(csvreader) # skip header\n",
    "    for line in csvreader:\n",
    "        query = \"INSERT INTO songs_by_user_session (artist, user_first, item_in_session, user_last, session_id, song_title, user_id) \"\n",
    "        query +=\"VALUES (%s, %s, %s, %s, %s, %s, %s)\"\n",
    "        session.execute(query, (line[0], line[1], int(line[3]), line[4], int(line[8]), line[9], int(line[10])))"
   ]
  },
  {
   "cell_type": "code",
   "execution_count": 12,
   "metadata": {
    "editable": true,
    "toggleable": false,
    "ulab": {
     "buttons": {
      "ulab-button-toggle-9b699a9e": {
       "style": "primary"
      }
     }
    }
   },
   "outputs": [
    {
     "name": "stdout",
     "output_type": "stream",
     "text": [
      "UserId   UserFirst       UserLast        Session  Item     Artist                    SongTitle           \n",
      "--------------------------------------------------------------------------------------------------------------\n",
      "58       Emily           Benson          768      0        System of a Down          Sad Statue          \n",
      "58       Emily           Benson          768      1        Ghostland Observatory     Stranger Lover      \n",
      "58       Emily           Benson          768      2        Evergreen Terrace         Zero                \n",
      "85       Kinsley         Young           776      2        Deftones                  Head Up (LP Version)\n",
      "85       Kinsley         Young           776      3        The Notorious B.I.G.      Playa Hater (Amended Version)\n"
     ]
    }
   ],
   "source": [
    "## VERIFY DATA\n",
    "query = \"SELECT * FROM songs_by_user_session LIMIT 5;\"\n",
    "try:\n",
    "    rows = session.execute(query)\n",
    "except Exception as e:\n",
    "    print('Error reading from table')\n",
    "    print(e)\n",
    "\n",
    "print('{:<8} {:<15} {:<15} {:<8} {:<8} {:<25} {:<20}'.format('UserId', 'UserFirst', 'UserLast', 'Session', 'Item', 'Artist', 'SongTitle'))\n",
    "print('-'*110)\n",
    "for row in rows:\n",
    "    print('{:<8} {:<15} {:<15} {:<8} {:<8} {:<25} {:<20}'.format(row.user_id, row.user_first, row.user_last, row.session_id, row.item_in_session, row.artist, row.song_title))"
   ]
  },
  {
   "cell_type": "code",
   "execution_count": 13,
   "metadata": {
    "editable": true
   },
   "outputs": [
    {
     "name": "stdout",
     "output_type": "stream",
     "text": [
      "Artist                Song Title            User First Name       User Last Name      \n",
      "--------------------------------------------------------------------------------\n",
      "Down To The Bone      Keep On Keepin' On    Sylvie                Cruz                \n",
      "Three Drives          Greece 2000           Sylvie                Cruz                \n",
      "Sebastien Tellier     Kilometer             Sylvie                Cruz                \n",
      "Lonnie Gordon         Catch You Baby (Steve Pitron & Max Sanna Radio Edit)  Sylvie                Cruz                \n"
     ]
    }
   ],
   "source": [
    "## RUN QUERY\n",
    "# Order by ASC item_in_session (done at table creation above)\n",
    "query = \"\"\"SELECT artist, song_title, user_first, user_last\n",
    "        FROM songs_by_user_session\n",
    "        WHERE user_id=%s AND session_id=%s;\"\"\"\n",
    "try:\n",
    "    rows = session.execute(query, (10, 182))\n",
    "except Exception as e:\n",
    "    print('Error running query')\n",
    "    print(e)\n",
    "\n",
    "print('{:<20}  {:<20}  {:<20}  {:<20}'.format('Artist', 'Song Title', 'User First Name', 'User Last Name'))\n",
    "print('-'*80)\n",
    "for row in rows:\n",
    "    print('{:<20}  {:<20}  {:<20}  {:<20}'.format(row.artist, row.song_title, row.user_first, row.user_last))"
   ]
  },
  {
   "cell_type": "markdown",
   "metadata": {
    "editable": true
   },
   "source": [
    "---\n",
    "\n",
    "## Query 3 Notes\n",
    "\n",
    "* <mark>**Query**: Give me every *user name (first and last)* in my music app history who listened to the *song 'All Hands Against His Own'*</mark>\n",
    "* To get a unique `PRIMARY KEY`, the `song_title` and `user_id` keys are combined.\n",
    "* The `song_title` is set as the `PARTITION KEY` - this gives lots of partitions (one for each song).\n",
    "* The query requires a `WHERE` on `song_title`."
   ]
  },
  {
   "cell_type": "code",
   "execution_count": 14,
   "metadata": {
    "editable": true
   },
   "outputs": [],
   "source": [
    "## CREATE TABLE\n",
    "query = \"CREATE TABLE IF NOT EXISTS user_by_song \"\n",
    "query += \"\"\"(song_title text,\n",
    "            user_id int,\n",
    "            user_first text,\n",
    "            user_last text,\n",
    "            PRIMARY KEY (song_title, user_id));\"\"\"\n",
    "try:\n",
    "    session.execute(query)\n",
    "except Exception as e:\n",
    "    print('Error creating TABLE')\n",
    "    print(e)\n",
    "\n",
    "## INSERT ROWS\n",
    "file = 'event_datafile_new.csv'\n",
    "\n",
    "with open(file, encoding = 'utf8') as f:\n",
    "    csvreader = csv.reader(f)\n",
    "    next(csvreader) # skip header\n",
    "    for line in csvreader:\n",
    "        query = \"INSERT INTO user_by_song (user_first, user_last, song_title, user_id) \"\n",
    "        query += \"VALUES (%s, %s, %s, %s);\"\n",
    "        session.execute(query, (line[1], line[4], line[9], int(line[10])))"
   ]
  },
  {
   "cell_type": "code",
   "execution_count": 15,
   "metadata": {
    "editable": true
   },
   "outputs": [
    {
     "name": "stdout",
     "output_type": "stream",
     "text": [
      "UserId   UserFirst       UserLast        SongTitle                \n",
      "--------------------------------------------------------------------------------------------------------------\n",
      "49       Chloe           Cuevas          Wonder What's Next       \n",
      "49       Chloe           Cuevas          In The Dragon's Den      \n",
      "44       Aleena          Kirby           Too Tough (1994 Digital Remaster)\n",
      "49       Chloe           Cuevas          Rio De Janeiro Blue (Album Version)\n",
      "15       Lily            Koch            My Place                 \n"
     ]
    }
   ],
   "source": [
    "## VERIFY DATA\n",
    "query = \"SELECT * FROM user_by_song LIMIT 5;\"\n",
    "try:\n",
    "    rows = session.execute(query)\n",
    "except Exception as e:\n",
    "    print('Error reading from table')\n",
    "    print(e)\n",
    "\n",
    "print('{:<8} {:<15} {:<15} {:<25}'.format('UserId', 'UserFirst', 'UserLast', 'SongTitle'))\n",
    "print('-'*110)\n",
    "for row in rows:\n",
    "    print('{:<8} {:<15} {:<15} {:<25}'.format(row.user_id, row.user_first, row.user_last, row.song_title))"
   ]
  },
  {
   "cell_type": "code",
   "execution_count": 16,
   "metadata": {
    "editable": true
   },
   "outputs": [
    {
     "name": "stdout",
     "output_type": "stream",
     "text": [
      "UserFirst            UserLast            \n",
      "----------------------------------------\n",
      "Jacqueline           Lynch               \n",
      "Tegan                Levine              \n",
      "Sara                 Johnson             \n"
     ]
    }
   ],
   "source": [
    "## RUN QUERY\n",
    "query = \"\"\"SELECT user_first, user_last\n",
    "        FROM user_by_song\n",
    "        WHERE song_title=%s;\"\"\"\n",
    "try:\n",
    "    rows = session.execute(query, ('All Hands Against His Own',))\n",
    "except Exception as e:\n",
    "    print('Error running query')\n",
    "    print(e)\n",
    "\n",
    "print('{:<20} {:<20}'.format('UserFirst', 'UserLast'))\n",
    "print('-'*40)\n",
    "for row in rows:\n",
    "    print('{:<20} {:<20}'.format(row.user_first, row.user_last))"
   ]
  },
  {
   "cell_type": "markdown",
   "metadata": {
    "editable": true
   },
   "source": [
    "### Drop the tables before closing out the sessions"
   ]
  },
  {
   "cell_type": "code",
   "execution_count": 17,
   "metadata": {
    "editable": true
   },
   "outputs": [
    {
     "data": {
      "text/plain": [
       "<cassandra.cluster.ResultSet at 0x7faef9d1add8>"
      ]
     },
     "execution_count": 17,
     "metadata": {},
     "output_type": "execute_result"
    }
   ],
   "source": [
    "try:\n",
    "    session.execute('DROP TABLE songs_by_session')\n",
    "    session.execute('DROP TABLE songs_by_user_session')\n",
    "    session.execute('DROP TABLE user_by_song')\n",
    "except Exception as (e):\n",
    "    print('Error dropping tables.')\n",
    "    print(e)"
   ]
  },
  {
   "cell_type": "markdown",
   "metadata": {
    "editable": true
   },
   "source": [
    "### Close the session and cluster connection¶"
   ]
  },
  {
   "cell_type": "code",
   "execution_count": 18,
   "metadata": {
    "editable": true
   },
   "outputs": [],
   "source": [
    "session.shutdown()\n",
    "cluster.shutdown()"
   ]
  }
 ],
 "metadata": {
  "kernelspec": {
   "display_name": "Python 3",
   "language": "python",
   "name": "python3"
  },
  "language_info": {
   "codemirror_mode": {
    "name": "ipython",
    "version": 3
   },
   "file_extension": ".py",
   "mimetype": "text/x-python",
   "name": "python",
   "nbconvert_exporter": "python",
   "pygments_lexer": "ipython3",
   "version": "3.6.3"
  }
 },
 "nbformat": 4,
 "nbformat_minor": 4
}
